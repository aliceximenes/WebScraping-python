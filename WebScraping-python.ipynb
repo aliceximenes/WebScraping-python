{
 "cells": [
  {
   "cell_type": "code",
   "execution_count": 9,
   "metadata": {
    "colab": {},
    "colab_type": "code",
    "id": "XsdagyRh0XAT"
   },
   "outputs": [],
   "source": [
    "import requests\n",
    "import pandas as pd\n",
    "from bs4 import BeautifulSoup\n",
    "import regex as re\n",
    "from pdfminer.high_level import extract_text"
   ]
  },
  {
   "cell_type": "markdown",
   "metadata": {},
   "source": [
    "O objetivo é acessar o site do Congresso sobre tecnologia na Educação e baixar os pdfs dos artigos aceitos.\n",
    "Para isso, a primeira etapa é se conectar com o site. Irei utilizar a biblioteca *BeautifulSoup* para isso."
   ]
  },
  {
   "cell_type": "code",
   "execution_count": 3,
   "metadata": {
    "colab": {},
    "colab_type": "code",
    "id": "UHy4yQLw3t55"
   },
   "outputs": [],
   "source": [
    "url = 'https://sol.sbc.org.br/index.php/ctrle'\n",
    "\n",
    "resposta = requests.get(url)\n",
    "\n",
    "soup = BeautifulSoup(resposta.content, 'html.parser')"
   ]
  },
  {
   "cell_type": "markdown",
   "metadata": {
    "colab_type": "text",
    "id": "gsx-Rmm6F1N5"
   },
   "source": [
    "A próxima etapa é realizar o *scraping* (raspagem) do site. O código a seguir irá percorrer toda a tag *a* da página em html que possui no objeto *class* o nome pdf. Dessa forma é possível salvar todos os links que direcionam o pdf de cada artigo."
   ]
  },
  {
   "cell_type": "code",
   "execution_count": 4,
   "metadata": {
    "colab": {
     "base_uri": "https://localhost:8080/",
     "height": 54
    },
    "colab_type": "code",
    "id": "nBmTIW5s4p6y",
    "outputId": "f0d7b10e-4930-4788-e7d9-b638740b4b37"
   },
   "outputs": [
    {
     "name": "stdout",
     "output_type": "stream",
     "text": [
      "O site possui 75 artigos em pdf\n"
     ]
    }
   ],
   "source": [
    "links_pdf = []\n",
    "for a in soup.find_all('a', class_=re.compile('pdf'), href=True):\n",
    "  if a.text:\n",
    "    links_pdf.append(a['href'])\n",
    "\n",
    "print('O site possui',len(links_pdf), 'artigos em pdf')"
   ]
  },
  {
   "cell_type": "markdown",
   "metadata": {
    "colab_type": "text",
    "id": "Sg-t411FF6Wq"
   },
   "source": [
    "Os links salvos são para visualização do pdf. Para realizar o download, é preciso modifica-los."
   ]
  },
  {
   "cell_type": "code",
   "execution_count": 5,
   "metadata": {
    "colab": {
     "base_uri": "https://localhost:8080/",
     "height": 54
    },
    "colab_type": "code",
    "id": "B3c6klp60a93",
    "outputId": "8889ecac-a111-4d2e-e27a-6d5f6e91c9d4"
   },
   "outputs": [
    {
     "name": "stdout",
     "output_type": "stream",
     "text": [
      "https://sol.sbc.org.br/index.php/ctrle/article/download/8871/8772\n"
     ]
    }
   ],
   "source": [
    "links_download = []\n",
    "for i in links_pdf:\n",
    "  links_download.append(re.sub('view', 'download', i))\n",
    "\n",
    "print(links_download[1])"
   ]
  },
  {
   "cell_type": "markdown",
   "metadata": {
    "colab_type": "text",
    "id": "TzItI7cJPiYo"
   },
   "source": [
    "Segue função para baixar os pdf's."
   ]
  },
  {
   "cell_type": "code",
   "execution_count": 7,
   "metadata": {
    "colab": {},
    "colab_type": "code",
    "id": "cEeOBjw-A1sf"
   },
   "outputs": [],
   "source": [
    "def download(url, nome):\n",
    "  resposta = requests.get(url)\n",
    "  if resposta.status_code==200:\n",
    "    with open(nome,\"wb\") as f:\n",
    "      f.write(resposta.content)"
   ]
  },
  {
   "cell_type": "markdown",
   "metadata": {},
   "source": [
    "Finalmente, basta chamar a função em um loop e salvar em um dataFrame as informações de cada artigo do congresso."
   ]
  },
  {
   "cell_type": "code",
   "execution_count": 11,
   "metadata": {},
   "outputs": [],
   "source": [
    "df=pd.DataFrame(columns=['text'])\n",
    "\n",
    "for i,link in enumerate(links_download):\n",
    "  pdf_name = 'pdf_{}.pdf'.format(i)\n",
    "  download(link, pdf_name)\n",
    "  pdf_text = extract_text(pdf_name)\n",
    "  df=df.append({'text':pdf_text}, ignore_index=True)"
   ]
  },
  {
   "cell_type": "code",
   "execution_count": 17,
   "metadata": {},
   "outputs": [
    {
     "data": {
      "text/plain": [
       "'IV Congresso sobre Tecnologias na Educação (Ctrl+E 2019) \\n \\n\\nRecife, Pernambuco – Brasil \\n\\n28 a 30 de agosto de 2019 \\n\\n \\n\\nComo a Realidade Aumentada tem Auxiliado no Processo \\nde Ensino e Aprendizagem de Ciências da Natureza? Um \\nMapeamento Sistemático da Literatura \\n\\nEduarda Queiroz1, Rafaela Moura1, Ellen Souza1 \\n\\n1Universidade Federal Rural de Pernambuco – Unidade Acadêmica de Serra Talhada \\n(UFRPE – UAST) - Serra Talhada, PE – Brasil \\n\\nmequeirozs@gmail.com, rafaela.smm98@gmail.com, ellen.ramos@ufrpe.br \\n\\nAbstract. Augmented Reality (AR) is defined as any system that combines the \\nreal with the virtual, which is interactive in real time and is registered in three \\ndimensions. In the teaching of the natural sciences it can provide students with \\nthe  visualization  of  abstract  concepts.  This  work  aims  to  investigate  how  RA \\nhas  aided  in  the  teaching  and  learning  process  of  the  natural  sciences.  A \\nsystematic mapping was carried out, which  is a secondary study and aims to \\nidentify the research gaps in the literature. Primary studies published between \\nthe  years  of  2009  to  2018  were  analyzed  in  order  to  extract  data  that  could \\nanswer questions and thus reach the objective of this work. \\n\\nResumo. A Realidade Aumentada (RA) é definida como qualquer sistema que \\ncombine o real com o  virtual, que seja interativo em tempo real e que  esteja \\nregistrado  em  três  dimensões.  No  ensino  das  ciências  da  natureza,  ela  pode \\nproporcionar  aos  estudantes  a  visualização  de  conceitos  abstratos.  Este \\ntrabalho tem como objetivo investigar  como a RA tem auxiliado no processo \\nde  ensino  e  aprendizagem  das  ciências  naturais.  Foi  realizado  um \\nmapeamento  sistemático  que  é  um  estudo  secundário  e  tem  como  foco \\nliteratura.  Estudos  primários \\nidentificar  as \\npublicados  entre  os  anos  de  2009  a  2018  foram  analisados  a  fim  de  extrair \\ndados  que  pudessem  responder  às  questões  de  pesquisa  e  assim  alcançar  o \\nobjetivo deste trabalho. \\n\\nlacunas  de  pesquisas  na \\n\\n1. Introdução \\n\\nEm 2015, os resultados do Programa Internacional de Avaliação dos Estudantes (PISA) \\nmostraram  que  o  Brasil  ocupa  a  63ª  posição  em  Ciências,  área  esta  que  foi  o  foco  da \\nprova  naquele  ano  (PISA,  2018).  Este  dado  mostra  que  há  uma  deficiência  no \\naprendizado das disciplinas correspondentes às ciências naturais. Esta deficiência se dá \\nporque  grande  parte  dos  professores  adotam  um  ensino  baseado  na  transmissão- \\nrecepção  de  conhecimento,  nos  qual  eles  são  os  agentes  ativos  no  processo  e,  como \\nconsequência,  a  aprendizagem  é  caracterizada  pela  memorização,  que  resulta  em  um \\nesquecimento  rápido  do  que  foi  “ensinado”  (Schnetzler,  1992,  p.  17).  Valente  (2018) \\nevidencia  que  é  necessário  alterar  a  maneira  como  os  conteúdos  disciplinares  são \\ntrabalhados  e  que  a  sala  de  aula  deve  ter  uma  dinâmica  coerente  com  o  dia  a  dia  dos \\nestudantes, cada vez mais mediado pelas tecnologias digitais.  \\n\\n \\n\\n \\n\\n\\x0c \\n \\n\\n \\n\\n \\nA Realidade Aumentada (RA) é definida como qualquer sistema que combine o \\nreal  com  o  virtual,  que  seja  interativo  em  tempo  real  e  que  esteja  registrado  em  três \\ndimensões.  A  RA  permite  ao  usuário  ver  o  mundo  real  sobreposto  ou  composto  por \\nobjetos virtuais. Nesse tipo de sistema, o real e o virtual  coexistem no  mesmo espaço. \\nEla suplementa a realidade (Azuma, 1997). A educação é uma área, em especial, na qual \\nesta  tecnologia  pode  ser  valiosa,  pois,  de  uma  perspectiva  pedagógica,  a  atividade \\nexperimental  baseada  na  observação  prática  de  conceitos  proporciona  uma  conexão \\nentre  a  teoria  e  a  realidade,  enriquecendo  e  solidificando  o  conhecimento  teórico \\n(Gruber et al., 2011). A RA proporciona uma experiência educacional diferente, como: \\num comportamento  conversacional face a face, onde os alunos podem sentar  em volta \\nde  uma  mesa,  vendo  e  interagindo  uns  com  os  outros  ao  mesmo  tempo  que  com  um \\ncoração flutuante; uma interface tangível, com a qual até mesmo crianças muito jovens \\npodem ter uma experiência rica com a RA; e uma interface transitória, onde os usuários \\npodem fazer uma transição suave do estático para o interativo (Billinghurst, 2002). No \\nensino  das  ciências  naturais,  ela  pode  proporcionar  aos  estudantes  a  visualização  de \\nconceitos abstratos como, por exemplo, os movimentos ondulatórios na física. \\n\\nSendo  assim,  este  trabalho  tem  como  objetivo  investigar  como  a  realidade \\n \\naumentada tem auxiliado no processo de ensino e aprendizagem de ciências da natureza. \\nPara  a  realização  do  mesmo,  foi  realizado  um  Mapeamento  Sistemático  da  Literatura \\n(MSL), um tipo de estudo secundário, utilizado para identificar as lacunas de pesquisas \\nna literatura a partir da análise e extração de dados de estudos primários, sendo possível, \\nassim, identificar  em quais áreas temáticas e para quais tipos de pesquisas há escassez \\nde  publicações  (PETERSEN,  2008).  Na  Seção  2,  são  apresentados  os  trabalhos \\nrelacionados  a  este  mapeamento.  A  Seção  3  expõe  o  método  utilizado  para  construir \\neste  trabalho.  Na  Seção  4,  são  apresentados  os  resultados.  A  Seção  5  desenvolve  a \\ndiscussão sobre os resultados deste trabalho. Por fim, a Seção 6  apresenta a conclusão \\ndeste artigo. \\n\\n2. Trabalhos Relacionados \\n\\nNesta  seção  são  apresentados  os  trabalhos  relacionados,  abordando  os  objetivos,  o \\nmétodo e resultados dos mesmos. Ao final, os estudos apresentados são comparados. \\n\\n2.1. Revisão Sistemática sobre Jogos Digitais que utilizam Realidade Aumentada \\nno Contexto Educacional Brasileiro \\n\\nOliveira et al. (2014) analisaram 872 estudos primários retirados dos Anais Eletrônicos \\ndo SBGames (evento da Sociedade Brasileira de Computação - SBC e da Abragames - \\nAssociação  Brasileira  dos  Desenvolvedores  de  Jogos  Digitais)  no  período  de  2006  a \\n2013,  com  o  objetivo  de  conhecer  como  os  pesquisadores  brasileiros  têm  feito  uso  da \\nRealidade  Aumentada  em  jogos  educacionais.  Primeiramente,  foram  definidas  as \\nquestões  de  pesquisa.  Em  seguida,  foi  realizada  a  análise  dos  estudos  através  de  uma \\nferramenta  automatizada  desenvolvida  para  extração  de  dados  que  utilizava  como \\npalavras-chave  os  termos:  “virtual  reality”,  “realidade  virtual”,  “augmented  reality”, \\n“realidade aumentada”, “education” e “educação”. Os dados obtidos foram organizados \\nem uma  tabela para que pudessem ser  interpretados a fim de responder às questões de \\npesquisa. Ao final, os autores perceberam que em mais da metade da amostra total não \\nforam encontrados nenhum dos termos; que 2% da  amostra estava relacionada a RA e \\n\\n\\x0c \\n\\nque somente 0,6%, aproximadamente, relacionava RA à educação, evidenciando assim \\nque esta é uma área a ser mais explorada pelos cientistas no Brasil. \\n\\n2.2. Revisão Sistemática sobre Jogos Digitais que utilizam Realidade Aumentada \\nno Contexto Educacional Brasileiro \\n\\nMoro  (2018)  analisou  2111  estudos  primários  retirados  do  Google  Acadêmico,  IEEE, \\nScopus, Springer, Science Direct, Ebsco e ACM, no período de 2012 a 2017, dos quais \\n21  estudos  foram  incluídos  em  sua  revisão,  com  o  objetivo  de  apresentar  pesquisas  e \\naplicações de RA em livros infantis. Se baseando nas etapas de planejamento, execução \\ne  extração  de  Kitchenham  &  Charters  (2007)  e  adaptadas  de  Neiva  e  Silva  (2016), \\nforam definidas as questões principal e as específicas, como também foram iniciadas as \\nbuscas. Na execução, foi realizado um refinamento dos estudos retornados com base em \\ncritérios  de  inclusão  ou  exclusão  das  pesquisas.  Finalmente,  na  extração,  foram \\ncoletados e sintetizados os dados dos trabalhos selecionados que passaram por análises \\nmais  específicas  pretendendo,  assim,  responder  às  questões  definidas  no  planejamento \\nda revisão. Ao final, a autora constatou que o uso da RA pode facilitar a compreensão \\nda história e aproximar a criança de aspectos mais complexos. \\n\\n \\nO  Quadro  1  apresenta  uma  análise  e  comparação  entre  os  estudos  retratados \\nacima  e  este  mapeamento  baseada  no  período  de  busca,  tipo  de  busca,  ambiente  de \\natuação e fontes de busca. Em divergência com os trabalhos relacionados, este utilizou \\noito  fontes  de  pesquisa,  realizou  dois  tipos  de  buscas  e  teve  um  período  de  pesquisa \\ncompreendido em dez anos. \\n\\nQuadro 1. Análise e comparação \\n\\nAutor(es) \\n\\nPeríodo \\n\\nTipo de Busca  Ambiente de \\n\\nFontes de Busca \\n\\nAtuação \\n\\nOliveira et al. \\n(2014) \\n\\n2006 a 2013 \\n\\nManual \\n\\nEducacional \\n\\nMoro (2018) \\n\\n2012 a 2017 \\n\\nAutomática \\n\\nEducacional \\n\\nEste trabalho \\n\\n2009 a 2018 \\n\\nEducacional \\n\\nManual e \\nautomática \\n\\nFonte: Elaborado pelos Autores (2019) \\n\\n3. Método \\n\\nNesta  pesquisa,  realizou-se  um  mapeamento  sistemático  da  literatura,  baseado  no  guia \\nproposto por Petersen et al. (2008). Este guia está organizado em 5 etapas, como mostra \\nna Figura 1. (I) Definição do Protocolo de Pesquisa, (II) Condução da Busca, (III) Pré- \\nSeleção, (IV) Seleção e (V) Extração dos Dados.  \\n\\nAnais Eletrônicos do \\nSBGames \\n\\nGoogle Acadêmico, \\nIEEE, Scopus, Springer, \\nScience Direct, Ebsco e \\nACM \\n\\nCBIE, WIE, RBIE, \\nRENOTE, JAIE, SBIE, \\nCTRL+E, Portal de \\nPeriódicos CAPES \\n\\n \\n\\n \\n\\n \\n\\n\\x0c \\n \\n\\n \\n\\n \\n\\nFigura 1. Etapas do mapeamento. Fonte: Adaptada de Petersen et al. (2008) \\n\\n3.1 Protocolo de Pesquisa \\n\\nNesta  etapa  foi  elaborado  o  protocolo  do  mapeamento  sistemático,  começando  pela \\ndefinição  do  tema  central  e  dando  continuidade  com  as  questões  de  pesquisa,  fontes  e \\nstrings  de  busca  e,  por  fim,  os  critérios  de  inclusão  e  exclusão,  como  segue  nas \\nsubseções abaixo. \\n\\n3.1.1 Questões de Pesquisa \\n\\nPara alcançar o objetivo do mapeamento, foram elaboradas uma questão principal (QP) \\ne questões específicas (QE) a serem respondidas e que estão apresentadas abaixo. \\n\\n“QP  -  Como  a  Realidade  Aumentada  tem  Auxiliado  no  Processo  de  Ensino  e \\nAprendizagem de Ciências da Natureza?” \\n\\n•  QE1  -  Qual  a  evolução  total  e  por  disciplina,  de  estudos  primários  de  2009  a \\n\\n2018? \\n\\ncom RA? \\n\\n•  QE2 - Quais autores, regiões, estados e instituições relatam o uso de RA para o \\n\\nensino de ciências da natureza? \\n\\n•  QE3 - Quais tecnologias estão disponíveis para o ensino de ciências da natureza \\n\\n•  QE4 - Houve avaliação quanto ao uso de RA no ensino? \\n\\n•  QE5 - Em quais níveis de ensino a RA foi usada para lecionar ciências naturais? \\n\\n3.1.2 Seleção de Fontes e String de Busca \\n\\nNa  busca  manual,  elegeu-se  revistas  e  eventos  de  destaque  na  área  de  informática  na \\neducação, apresentados no Quadro 2. Na busca automática, foi selecionado o Portal de \\nPeriódicos  CAPES,  o  qual  indexa  uma  biblioteca  digital  de  relevância  na  academia, \\nutilizando  a  string  de  busca  apresentada  no  mesmo  quadro,  logo  abaixo  do  nome  do \\nportal. \\n\\nQuadro 2. Fontes de Busca \\nManual \\nCongresso Brasileiro de Informática na Educação (CBIE). \\nWorkshop de Informática na Escola (WIE). \\nCongresso sobre Tecnologias na Educação (Ctrl+E). \\nSimpósio Brasileiro de Informática na Educação (SBIE). \\nRevista Brasileira de Informática na Educação (RBIE). \\nRevista Novas Tecnologias na Educação (RENOTE). \\nJornada de Atualização em Informática na Educação (JAIE). \\nAutomática \\nPortal de Periódicos CAPES \\nString de Busca: “realidade aumentada” AND (“física” OR “química” OR “biologia”) \\n\\nFonte: Elaborado pelos Autores (2019) \\n\\n3.1.3 Critérios de Inclusão e Exclusão \\n\\n\\x0c \\n\\n \\n\\nDiante  da  proposta  do  MSL,  foram  definidos  critérios  de  inclusão  (CI)  e  de  exclusão \\n(CE). Como mostra o Quadro 3, abaixo. \\n\\nQuadro 3. Critério de Inclusão e Exclusão \\nCritérios de Exclusão \\n\\n \\nCritérios de Inclusão \\nCI1 - Estudos primários publicados entre \\n2009 e 2018. \\nCI2 - Estudos primários publicados \\nem língua portuguesa. \\n\\nCI3 - Estudos primários que estão \\ndisponíveis online. \\n\\nCE1 - Estudo primário duplicados. \\n\\nCE2 - Estudos secundários (revisões e \\nmapeamentos sistemáticos). \\nCE3 - Estudos primários que não apresentem o \\nuso de realidade aumentada no ensino e \\naprendizagem de ciências da natureza. \\n\\nFonte: Elaborado pelos Autores (2019) \\n\\n3.2 Pré-seleção \\n\\nNesta etapa, foram analisados e catalogados os estudos primários retornados das buscas \\nmanual  e  automática  que  foram  publicados  entre  os  anos  de  2009  a  2018.  Os  estudos \\nforam organizados em uma tabela juntamente com os critérios que foram aplicados aos \\nmesmos.  Esta  tabela  está  disponível  no  link1.  Na  catalogação,  para  a  aplicação  dos \\ncritérios, foram analisados os títulos, resumos, o tipo da publicação e primeiro autor de \\ncada estudo. No final 21 trabalhos foram pré-selecionados como mostra no Quadro 4. \\n\\n3.3 Seleção \\n\\nNesta  etapa,  os  21  estudos  pré-selecionados  foram  analisados  novamente,  sendo  que \\nagora,  de  forma  mais  detalhada.  A  partir  da  leitura  completa  dos  mesmos,  foram \\nextraídas  as  informações  necessárias  para  que  as  questões  de  pesquisas  pudessem  ser \\nrespondidas. \\n\\n3.4 Condução da Busca \\n\\nDentre  os  4814  estudos  analisados,  79  foram  retornados  na  busca  manual,  após  a \\nexecução  da  palavra-chave  ‘realidade  aumentada’.  Na  busca  automática,  após  a \\nexecução  da  string  de  busca,  18  estudos  foram  retornados.  Em  seguida,  aplicou-se  os \\ncritérios de inclusão e exclusão, resultando no total de 21 estudos incluídos na etapa de \\npré-seleção.  Na  etapa  de  seleção,  realizou-se  a  leitura  completa  dos  mesmos  a  fim  de \\nextrair  dados  que  respondessem  às  questões  de  pesquisa.  Os  21  estudos  passaram  no \\nprocesso de seleção e foram incluídos no mapeamento, Quadro 4. \\n\\nQuadro 4. Resultados da condução da busca \\n\\nBusca Manual \\n\\n \\n\\nCBIE  WIE \\n\\nRBIE \\n\\nRENOTE \\n\\nJAIE \\n\\nSBIE \\n\\nCTRL+E \\n\\nCAPES \\n\\nPublicados \\n\\n926 \\n\\n723 \\n\\n256 \\n\\n1181 \\n\\n39 \\n\\n1471 \\n\\n218 \\n\\nRetornados \\n\\nPré-seleção \\n\\n21 \\n\\n5 \\n\\n21 \\n\\n6 \\n\\n0 \\n\\n0 \\n\\n25 \\n\\n3 \\n\\n4 \\n\\n1 \\n\\nBusca \\nAutomática \\n\\n- \\n\\n18 \\n\\n3 \\n\\n \\n \\n \\nTOTAL \\n\\n4814 \\n\\n97 \\n\\n21 \\n\\n \\n\\n4 \\n\\n1 \\n\\n4 \\n\\n2 \\n\\n \\n\\n1 https://bit.ly/2Yo7Eah \\n\\n \\n\\n \\n\\n \\n\\n \\n\\n \\n\\n\\x0c \\n \\n\\n \\n\\n \\n\\nSeleção \\n\\n5 \\n\\n1 \\n\\n2 \\n\\n6 \\n\\n0 \\n\\n3 \\n\\n1 \\n\\n3 \\n\\n21 \\n\\nFonte: Elaborado pelos Autores (2019) \\n\\n3.5 Extração dos Dados \\n\\nA  fim  de  responder  às  questões  de  pesquisa  apresentadas  na  Subseção  3.1.1,  foram \\nextraídos  os  seguintes  dados:  título  do  do  estudo  primário,  tipo  (artigo  curto  ou \\ncompleto),  primeiro  autor,  disciplina,  autores,  região, \\ntecnologias  disponíveis, \\ngratuidade  das  tecnologias,  status  de  desenvolvimento  da  tecnologia,  avaliação  do  uso \\nda tecnologia e nível de ensino onde o estudo foi aplicado. Foi utilizada uma tabela para \\norganizar os dados coletados, que está disponível no link2. \\n\\n4. Resultados \\n\\nNesta Seção, são apresentadas as respostas para as questões específicas de pesquisa. As \\nmesmas  foram  obtidas  a  partir  da  extração  dos  dados  dos  21  estudos  primários \\nconsiderados ao fim do mapeamento. \\n\\n4.1 QE1 - Qual a evolução total e por disciplina, de estudos primários de 2009 a \\n2018? \\n\\nA  Figura  2  mostra  que  dos  anos  de  2009  a  2017  a  quantidade  de  publicações  foi \\nrelativamente  baixa  se  comparadas  ao  ano  de  2018.  Logo,  só  houve  uma  evolução \\nconsiderável  no  último  ano  compreendido  pelo  mapeamento.  Observa-se  também  que, \\ndiante das disciplinas abordadas, a com maior número de aplicação foi física. \\n\\nFigura 2. Evolução de estudos primários por disciplina. Fonte: Elaborada pelos \\nautores (2019) \\n\\n \\n\\nNo Quadro 5, é apresentado o quantitativo de estudos por ano, em relação ao total e às \\ndisciplinas de química, física e biologia. \\n\\nQuadro 5. Relação de estudos por ano \\n\\n2 https://bit.ly/2RNU8KX \\n\\n \\n\\n\\x0c \\n\\n \\n\\n \\n\\nFonte: Elaborado pelos Autores (2019) \\n\\n4.2 QE2 - Quais autores e regiões relatam o uso de RA para o ensino de ciências da \\nnatureza? \\n\\nOs  autores  com  os  números  mais  relevantes  de  publicações  são:  Suzana  da  Hora \\nMacedo (IFF) com 5 estudos, Filipe Arantes Fernandes (IFF), Maria Cristina Villanova \\nBiazus (UFRGS) e José Valdeni De  Lima (UFRGS) com 4 artigos. Por fim, 7 autores \\ncom  2  estudos  e  outros  44  publicaram  apenas  1  estudo.  O  Quadro  6  aponta  que  as \\nregiões Sudeste e Sul apresentam um maior número de estudos sobre RA no ensino das \\nciências naturais. \\n\\nQuadro 6. Relação de estudos por região \\n\\nFonte: Elaborado pelos Autores (2019) \\n\\nSomando a quantidade de estudos apresentados no Quadro 6, obtém-se um total \\n \\nde  28  estudos,  que  ultrapassa  o  número  de  21  estudos  selecionados  e  incluídos  neste \\nmapeamento. Isto se dá porque um mesmo artigo está afiliado a mais de uma instituição. \\n\\n4.3 QE3 - Quais tecnologias estão disponíveis para o ensino de ciências da natureza \\ncom RA? \\n\\nO  tipo  de  tecnologia  que  obteve  destaque  quantitativo  ao  final  deste  estudo  foram  as \\naplicações móveis, com um total de 10 estudos apresentaram o desenvolvimento/uso de \\napps, conforme apresentando no Quadro 7. \\n\\n \\n\\n \\n\\n\\x0cQuadro 7. Relação de estudos por tecnologias \\n\\n \\n\\n \\n\\nFonte: Elaborado pelos Autores (2019) \\n\\nCom relação ao status das tecnologias, 16 delas eram produtos finais, enquanto 5 \\n \\neram  protótipos.  Quanto  a  acessibilidade  das  tecnologias,  a  maioria  delas  podem  ser \\nencontradas  facilmente  na  internet  ou  em  lojas  virtuais  de  aplicativos  de  maneira \\ngratuita. \\n\\n4.4 QE4 - Houve avaliação quanto ao uso de RA no ensino? \\n\\nAnalisando  os  estudos  selecionados,  11  estudos  primários  apresentaram  avaliação  das \\nsuas aplicações; em contrapartida, 10 estudos não avaliaram suas tecnologias, por serem \\nprotótipos ou produtos finalizados que simplesmente não foram aplicados. O Quadro 8 \\nquantifica quantos estudos apresentaram ou não uma avaliação. \\n\\nQuadro 8. Relação de estudos por avaliação \\n\\nFonte: Elaborado pelos Autores (2019) \\n\\n4.5 QE5 - Em quais níveis de ensino a RA foi usada para lecionar ciências \\nnaturais? \\n\\nDiante das análises dos estudos primários, destacou-se o ensino médio com um total de \\n4 aplicações desenvolvidas em RA; o ensino superior e o ensino técnico tiveram, cada \\numa, um total de 3 aplicações desenvolvidas; no fundamental 2 e 1, somente 1 aplicação \\nfoi desenvolvida para ambos. Observou-se que um estudo primário trabalhou com dois \\nníveis de ensino, fundamental 2 e ensino médio,  e 10 estudos primários não aplicaram \\nseus métodos em nenhum nível de ensino. A relação de estudos por nível de ensino está \\nno Quadro 9. \\n\\nQuadro 9. Relação de estudos por avaliação \\n\\n \\n \\n\\n \\n\\n \\n\\n \\n\\n\\x0c \\n\\n \\n\\nFonte: Elaborado pelos Autores (2019) \\n\\n5. Discussão \\n\\nConsiderando  os  resultados  apresentados  neste  mapeamento,  destaca-se  que  na  região \\ndo Centro-Oeste não há estudos sobre a RA no ensino das ciências naturais. Foi possível \\nobservar  também  que  apenas  7,  dos  26  estados  brasileiros  e  um  distrito  federal,  têm \\npesquisas sobre este tema. Dentre as instituições atuantes em estudos nesta área, a maior \\nfração  corresponde  às  Universidades  Federais.  Os  dados  mostram  também  que  a \\ndisciplina  de  química  tem  menos  aplicações  de  práticas  de  ensino  com  RA  e  que  em \\ncontrapartida,  física  é  a  que  mais  foi  contemplada.  Nota-se  que,  do  baixo  número  de \\nestudos  incluídos  neste  mapeamento,  o  número  correspondente  àqueles  que  foram \\naplicados  é  ainda  menor,  visto  que  em  quase  50%  dos  mesmos  não  constavam \\navaliações sobre o uso das tecnologias desenvolvidas. Com relação aos outros 50% dos \\nestudos que foram aplicados, 4 deles foram no Ensino Médio, mostrando assim que os \\ndemais níveis de ensino podem ser mais explorados para aplicação do uso de RA. \\n\\n6. Conclusão \\n\\nEste mapeamento sistemático da literatura foi realizado tendo como base os 21 estudos \\nprimários  selecionados  a  partir  dos  critérios  de  inclusão  e  exclusão.  Como  resultado, \\nidentificou-se uma evolução considerável na publicação de estudos sobre RA no ano de \\n2018; percebeu-se que a disciplina que mais teve aplicação de RA no ensino foi Física; \\nnotou-se  que  há  lacunas  de  pesquisas  na  região  Centro-Oeste;  quando  investigado  a \\naplicação das tecnologias desenvolvidas pelos estudos, nos diferentes níveis de ensino, \\nfoi  visto  que  menos  da  metade  foram  aplicadas,  mostrando  assim  que  a  área  de  RA \\nainda  pode  ser  muito  explorada  no  ensino  e  aprendizagem  de  ciências  da  natureza. \\nComo  trabalhos  futuros,  para  a  continuidade  deste  estudo,  pretende-se  expandir  as \\nfontes  de  busca  manual  e  automática,  além  de  incluir  estudos  primários  escritos  \\ntambém em língua inglesa. \\n\\nReferências \\n\\nAssociação \\n\\nBrasileira \\n\\ndas \\n\\nEmpresas \\n\\nde \\n\\nSoftware \\n\\n(Abes), \\n\\nhttp://agenciabrasil.ebc.com.br/economia/noticia/2018-08/brasil-ocupa-o-9o-lugar-\\nnos- investimentos-em-tecnologia-da-informacao, 2018 \\n\\nAzuma, \\n\\nRonald \\n\\nT. \\n\\n(1997), \\n\\n“A \\n\\nSurvey \\n\\nof  Augmented \\n\\nReality” \\n\\nhttps://www.mitpressjournals.org/doi/pdf/10.1162/pres.1997.6.4.355 \\n\\n \\n\\n \\n\\n\\x0cBillinghurst, M. (2002). “Augmented reality in  education\". New horizons for learning, \\n\\n12(5). \\n\\nGruber,  V.,  Schaeffer,  L.,  Silva,  J.  B.  &  Restivo,  T.  (2011).  “Model  for  remote  data \\nacquisition  and  monitoring  integrating  social  media,  NTIC’s  and  3G  cell  phone \\nNetworks \\nof \\napplied \\nTelecommunications, 7(1), 13–20. \\n\\nto  monitoring \\n\\nsmall  wind \\n\\nturbine”. \\n\\nJournal \\n\\nMoro,  Roberta  G.,  (2018)  “Realidade  Aumentada  em  Livros  Infantis:  uma  revisão \\n\\nsistemática de pesquisas e aplicações”, In: VII CBIE 2018. \\n\\nOliveira, Cleber S. de., Mustaro, Pollyana N., (2014) “Revisão Sistemática sobre Jogos \\nDigitais que utilizam Realidade Aumentada no Contexto Educacional Brasileiro”, In: \\nIII CBIE 2014. \\n\\nPetersen,  K.  et  al.  (2008)  “Systematic  mapping  studies  in  software  engineering”.  In: \\n\\nEASE.[S.l.:s.n.],v.8,p.68–77. \\n\\nhttp://www.robertfeldt.net/publications/petersen_ease08_sysmap_studies_in_se.pd \\n\\nPetersen,  K.,  Vakkalanka,  S.,  Kuzniarz,  L.,  (2015),  “Guidelines  for  Conducting \\nSystematic Mapping Studies in Software Engineering: An Update”. Information and \\nSoftware Technology, vol. 64, 2015, pp. 1–18. \\n\\nProgramaInternacionaldeAvaliaçãodosEstudantes, \\n\\nhttp://portal.inep.gov.br/web/guest/acoesinternacionais/pisa/resultados, 2018 \\n\\nSchnetzler,  Roseli  Pacheco.  (1992),  “Construção  do  Conhecimento  e  Ensino  de \\nCiências.”,  Em  Aberto,  Brasília,  v.  11,  n.  55,  p.  17-22.  1992. \\nhttp://emaberto.inep.gov.br/index.php/emaberto/article/viewFile/813/731, \\nAcesso \\nem: 12 jun. 2019 \\n\\n \\n \\n\\n  \\n\\n \\n\\n \\n\\n\\x0c'"
      ]
     },
     "execution_count": 17,
     "metadata": {},
     "output_type": "execute_result"
    }
   ],
   "source": [
    "df.text[0]"
   ]
  },
  {
   "cell_type": "code",
   "execution_count": null,
   "metadata": {},
   "outputs": [],
   "source": []
  }
 ],
 "metadata": {
  "colab": {
   "collapsed_sections": [],
   "name": "Dri-lab1-Alice.ipynb",
   "provenance": []
  },
  "kernelspec": {
   "display_name": "Python 3",
   "language": "python",
   "name": "python3"
  },
  "language_info": {
   "codemirror_mode": {
    "name": "ipython",
    "version": 3
   },
   "file_extension": ".py",
   "mimetype": "text/x-python",
   "name": "python",
   "nbconvert_exporter": "python",
   "pygments_lexer": "ipython3",
   "version": "3.7.6"
  }
 },
 "nbformat": 4,
 "nbformat_minor": 1
}
