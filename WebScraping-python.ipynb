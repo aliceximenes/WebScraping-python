{
 "cells": [
  {
   "cell_type": "code",
   "execution_count": 6,
   "metadata": {
    "colab": {},
    "colab_type": "code",
    "id": "XsdagyRh0XAT"
   },
   "outputs": [],
   "source": [
    "import requests\n",
    "from bs4 import BeautifulSoup\n",
    "import regex as re\n",
    "from pdfminer.high_level import extract_text"
   ]
  },
  {
   "cell_type": "code",
   "execution_count": null,
   "metadata": {
    "colab": {
     "base_uri": "https://localhost:8080/",
     "height": 34
    },
    "colab_type": "code",
    "id": "rYXkF898Msn9",
    "outputId": "313d19c5-b755-49f6-f87a-ff776f4ed95e"
   },
   "outputs": [
    {
     "name": "stdout",
     "output_type": "stream",
     "text": [
      "Mounted at /content/drive\n"
     ]
    }
   ],
   "source": [
    "from google.colab import drive\n",
    "drive.mount('/content/drive')"
   ]
  },
  {
   "cell_type": "code",
   "execution_count": 7,
   "metadata": {
    "colab": {},
    "colab_type": "code",
    "id": "UHy4yQLw3t55"
   },
   "outputs": [],
   "source": [
    "url = 'https://sol.sbc.org.br/index.php/ctrle'\n",
    "\n",
    "resposta = requests.get(url)\n",
    "\n",
    "soup = BeautifulSoup(resposta.content, 'html.parser')"
   ]
  },
  {
   "cell_type": "markdown",
   "metadata": {
    "colab_type": "text",
    "id": "gsx-Rmm6F1N5"
   },
   "source": [
    "Pegando os links de interesse na página:"
   ]
  },
  {
   "cell_type": "code",
   "execution_count": 8,
   "metadata": {
    "colab": {
     "base_uri": "https://localhost:8080/",
     "height": 54
    },
    "colab_type": "code",
    "id": "nBmTIW5s4p6y",
    "outputId": "f0d7b10e-4930-4788-e7d9-b638740b4b37"
   },
   "outputs": [
    {
     "name": "stdout",
     "output_type": "stream",
     "text": [
      "['https://sol.sbc.org.br/index.php/ctrle/article/view/8870/8771', 'https://sol.sbc.org.br/index.php/ctrle/article/view/8871/8772', 'https://sol.sbc.org.br/index.php/ctrle/article/view/8872/8773', 'https://sol.sbc.org.br/index.php/ctrle/article/view/8873/8774', 'https://sol.sbc.org.br/index.php/ctrle/article/view/8874/8775', 'https://sol.sbc.org.br/index.php/ctrle/article/view/8875/8776', 'https://sol.sbc.org.br/index.php/ctrle/article/view/8876/8777', 'https://sol.sbc.org.br/index.php/ctrle/article/view/8877/8778', 'https://sol.sbc.org.br/index.php/ctrle/article/view/8878/8779', 'https://sol.sbc.org.br/index.php/ctrle/article/view/8879/8780', 'https://sol.sbc.org.br/index.php/ctrle/article/view/8880/8781', 'https://sol.sbc.org.br/index.php/ctrle/article/view/8881/8782', 'https://sol.sbc.org.br/index.php/ctrle/article/view/8882/8783', 'https://sol.sbc.org.br/index.php/ctrle/article/view/8883/8784', 'https://sol.sbc.org.br/index.php/ctrle/article/view/8884/8785', 'https://sol.sbc.org.br/index.php/ctrle/article/view/8885/8786', 'https://sol.sbc.org.br/index.php/ctrle/article/view/8886/8787', 'https://sol.sbc.org.br/index.php/ctrle/article/view/8887/8788', 'https://sol.sbc.org.br/index.php/ctrle/article/view/8888/8789', 'https://sol.sbc.org.br/index.php/ctrle/article/view/8889/8790', 'https://sol.sbc.org.br/index.php/ctrle/article/view/8890/8791', 'https://sol.sbc.org.br/index.php/ctrle/article/view/8891/8792', 'https://sol.sbc.org.br/index.php/ctrle/article/view/8892/8793', 'https://sol.sbc.org.br/index.php/ctrle/article/view/8893/8794', 'https://sol.sbc.org.br/index.php/ctrle/article/view/8894/8795', 'https://sol.sbc.org.br/index.php/ctrle/article/view/8895/8796', 'https://sol.sbc.org.br/index.php/ctrle/article/view/8896/8797', 'https://sol.sbc.org.br/index.php/ctrle/article/view/8897/8798', 'https://sol.sbc.org.br/index.php/ctrle/article/view/8898/8799', 'https://sol.sbc.org.br/index.php/ctrle/article/view/8899/8800', 'https://sol.sbc.org.br/index.php/ctrle/article/view/8900/8801', 'https://sol.sbc.org.br/index.php/ctrle/article/view/8901/8802', 'https://sol.sbc.org.br/index.php/ctrle/article/view/8902/8803', 'https://sol.sbc.org.br/index.php/ctrle/article/view/8903/8804', 'https://sol.sbc.org.br/index.php/ctrle/article/view/8904/8805', 'https://sol.sbc.org.br/index.php/ctrle/article/view/8905/8806', 'https://sol.sbc.org.br/index.php/ctrle/article/view/8906/8807', 'https://sol.sbc.org.br/index.php/ctrle/article/view/8907/8808', 'https://sol.sbc.org.br/index.php/ctrle/article/view/8908/8809', 'https://sol.sbc.org.br/index.php/ctrle/article/view/8909/8810', 'https://sol.sbc.org.br/index.php/ctrle/article/view/8910/8811', 'https://sol.sbc.org.br/index.php/ctrle/article/view/8911/8812', 'https://sol.sbc.org.br/index.php/ctrle/article/view/8912/8813', 'https://sol.sbc.org.br/index.php/ctrle/article/view/8913/8814', 'https://sol.sbc.org.br/index.php/ctrle/article/view/8914/8815', 'https://sol.sbc.org.br/index.php/ctrle/article/view/8915/8816', 'https://sol.sbc.org.br/index.php/ctrle/article/view/8916/8817', 'https://sol.sbc.org.br/index.php/ctrle/article/view/8917/8818', 'https://sol.sbc.org.br/index.php/ctrle/article/view/8918/8819', 'https://sol.sbc.org.br/index.php/ctrle/article/view/8919/8820', 'https://sol.sbc.org.br/index.php/ctrle/article/view/8920/8821', 'https://sol.sbc.org.br/index.php/ctrle/article/view/8921/8822', 'https://sol.sbc.org.br/index.php/ctrle/article/view/8922/8823', 'https://sol.sbc.org.br/index.php/ctrle/article/view/8923/8824', 'https://sol.sbc.org.br/index.php/ctrle/article/view/8924/8825', 'https://sol.sbc.org.br/index.php/ctrle/article/view/8925/8826', 'https://sol.sbc.org.br/index.php/ctrle/article/view/8926/8827', 'https://sol.sbc.org.br/index.php/ctrle/article/view/8927/8828', 'https://sol.sbc.org.br/index.php/ctrle/article/view/8928/8829', 'https://sol.sbc.org.br/index.php/ctrle/article/view/8929/8830', 'https://sol.sbc.org.br/index.php/ctrle/article/view/8930/8831', 'https://sol.sbc.org.br/index.php/ctrle/article/view/8931/8832', 'https://sol.sbc.org.br/index.php/ctrle/article/view/8932/8833', 'https://sol.sbc.org.br/index.php/ctrle/article/view/8933/8834', 'https://sol.sbc.org.br/index.php/ctrle/article/view/8934/8835', 'https://sol.sbc.org.br/index.php/ctrle/article/view/8935/8836', 'https://sol.sbc.org.br/index.php/ctrle/article/view/8936/8837', 'https://sol.sbc.org.br/index.php/ctrle/article/view/8937/8838', 'https://sol.sbc.org.br/index.php/ctrle/article/view/8938/8839', 'https://sol.sbc.org.br/index.php/ctrle/article/view/8939/8840', 'https://sol.sbc.org.br/index.php/ctrle/article/view/8940/8841', 'https://sol.sbc.org.br/index.php/ctrle/article/view/8941/8842', 'https://sol.sbc.org.br/index.php/ctrle/article/view/8942/8843', 'https://sol.sbc.org.br/index.php/ctrle/article/view/8943/8844', 'https://sol.sbc.org.br/index.php/ctrle/article/view/8944/8845']\n"
     ]
    }
   ],
   "source": [
    "links_pdf = []\n",
    "for a in soup.find_all('a', class_=re.compile('pdf'), href=True):\n",
    "  if a.text:\n",
    "    links_pdf.append(a['href'])\n",
    "\n",
    "print(links_pdf)"
   ]
  },
  {
   "cell_type": "markdown",
   "metadata": {
    "colab_type": "text",
    "id": "Sg-t411FF6Wq"
   },
   "source": [
    "Alterando o link para que seja possível o download:"
   ]
  },
  {
   "cell_type": "code",
   "execution_count": 16,
   "metadata": {
    "colab": {
     "base_uri": "https://localhost:8080/",
     "height": 54
    },
    "colab_type": "code",
    "id": "B3c6klp60a93",
    "outputId": "8889ecac-a111-4d2e-e27a-6d5f6e91c9d4"
   },
   "outputs": [
    {
     "name": "stdout",
     "output_type": "stream",
     "text": [
      "['https://sol.sbc.org.br/index.php/ctrle/article/download/8870/8771', 'https://sol.sbc.org.br/index.php/ctrle/article/download/8871/8772', 'https://sol.sbc.org.br/index.php/ctrle/article/download/8872/8773', 'https://sol.sbc.org.br/index.php/ctrle/article/download/8873/8774', 'https://sol.sbc.org.br/index.php/ctrle/article/download/8874/8775', 'https://sol.sbc.org.br/index.php/ctrle/article/download/8875/8776', 'https://sol.sbc.org.br/index.php/ctrle/article/download/8876/8777', 'https://sol.sbc.org.br/index.php/ctrle/article/download/8877/8778', 'https://sol.sbc.org.br/index.php/ctrle/article/download/8878/8779', 'https://sol.sbc.org.br/index.php/ctrle/article/download/8879/8780', 'https://sol.sbc.org.br/index.php/ctrle/article/download/8880/8781', 'https://sol.sbc.org.br/index.php/ctrle/article/download/8881/8782', 'https://sol.sbc.org.br/index.php/ctrle/article/download/8882/8783', 'https://sol.sbc.org.br/index.php/ctrle/article/download/8883/8784', 'https://sol.sbc.org.br/index.php/ctrle/article/download/8884/8785', 'https://sol.sbc.org.br/index.php/ctrle/article/download/8885/8786', 'https://sol.sbc.org.br/index.php/ctrle/article/download/8886/8787', 'https://sol.sbc.org.br/index.php/ctrle/article/download/8887/8788', 'https://sol.sbc.org.br/index.php/ctrle/article/download/8888/8789', 'https://sol.sbc.org.br/index.php/ctrle/article/download/8889/8790', 'https://sol.sbc.org.br/index.php/ctrle/article/download/8890/8791', 'https://sol.sbc.org.br/index.php/ctrle/article/download/8891/8792', 'https://sol.sbc.org.br/index.php/ctrle/article/download/8892/8793', 'https://sol.sbc.org.br/index.php/ctrle/article/download/8893/8794', 'https://sol.sbc.org.br/index.php/ctrle/article/download/8894/8795', 'https://sol.sbc.org.br/index.php/ctrle/article/download/8895/8796', 'https://sol.sbc.org.br/index.php/ctrle/article/download/8896/8797', 'https://sol.sbc.org.br/index.php/ctrle/article/download/8897/8798', 'https://sol.sbc.org.br/index.php/ctrle/article/download/8898/8799', 'https://sol.sbc.org.br/index.php/ctrle/article/download/8899/8800', 'https://sol.sbc.org.br/index.php/ctrle/article/download/8900/8801', 'https://sol.sbc.org.br/index.php/ctrle/article/download/8901/8802', 'https://sol.sbc.org.br/index.php/ctrle/article/download/8902/8803', 'https://sol.sbc.org.br/index.php/ctrle/article/download/8903/8804', 'https://sol.sbc.org.br/index.php/ctrle/article/download/8904/8805', 'https://sol.sbc.org.br/index.php/ctrle/article/download/8905/8806', 'https://sol.sbc.org.br/index.php/ctrle/article/download/8906/8807', 'https://sol.sbc.org.br/index.php/ctrle/article/download/8907/8808', 'https://sol.sbc.org.br/index.php/ctrle/article/download/8908/8809', 'https://sol.sbc.org.br/index.php/ctrle/article/download/8909/8810', 'https://sol.sbc.org.br/index.php/ctrle/article/download/8910/8811', 'https://sol.sbc.org.br/index.php/ctrle/article/download/8911/8812', 'https://sol.sbc.org.br/index.php/ctrle/article/download/8912/8813', 'https://sol.sbc.org.br/index.php/ctrle/article/download/8913/8814', 'https://sol.sbc.org.br/index.php/ctrle/article/download/8914/8815', 'https://sol.sbc.org.br/index.php/ctrle/article/download/8915/8816', 'https://sol.sbc.org.br/index.php/ctrle/article/download/8916/8817', 'https://sol.sbc.org.br/index.php/ctrle/article/download/8917/8818', 'https://sol.sbc.org.br/index.php/ctrle/article/download/8918/8819', 'https://sol.sbc.org.br/index.php/ctrle/article/download/8919/8820', 'https://sol.sbc.org.br/index.php/ctrle/article/download/8920/8821', 'https://sol.sbc.org.br/index.php/ctrle/article/download/8921/8822', 'https://sol.sbc.org.br/index.php/ctrle/article/download/8922/8823', 'https://sol.sbc.org.br/index.php/ctrle/article/download/8923/8824', 'https://sol.sbc.org.br/index.php/ctrle/article/download/8924/8825', 'https://sol.sbc.org.br/index.php/ctrle/article/download/8925/8826', 'https://sol.sbc.org.br/index.php/ctrle/article/download/8926/8827', 'https://sol.sbc.org.br/index.php/ctrle/article/download/8927/8828', 'https://sol.sbc.org.br/index.php/ctrle/article/download/8928/8829', 'https://sol.sbc.org.br/index.php/ctrle/article/download/8929/8830', 'https://sol.sbc.org.br/index.php/ctrle/article/download/8930/8831', 'https://sol.sbc.org.br/index.php/ctrle/article/download/8931/8832', 'https://sol.sbc.org.br/index.php/ctrle/article/download/8932/8833', 'https://sol.sbc.org.br/index.php/ctrle/article/download/8933/8834', 'https://sol.sbc.org.br/index.php/ctrle/article/download/8934/8835', 'https://sol.sbc.org.br/index.php/ctrle/article/download/8935/8836', 'https://sol.sbc.org.br/index.php/ctrle/article/download/8936/8837', 'https://sol.sbc.org.br/index.php/ctrle/article/download/8937/8838', 'https://sol.sbc.org.br/index.php/ctrle/article/download/8938/8839', 'https://sol.sbc.org.br/index.php/ctrle/article/download/8939/8840', 'https://sol.sbc.org.br/index.php/ctrle/article/download/8940/8841', 'https://sol.sbc.org.br/index.php/ctrle/article/download/8941/8842', 'https://sol.sbc.org.br/index.php/ctrle/article/download/8942/8843', 'https://sol.sbc.org.br/index.php/ctrle/article/download/8943/8844', 'https://sol.sbc.org.br/index.php/ctrle/article/download/8944/8845']\n"
     ]
    }
   ],
   "source": [
    "links_download = []\n",
    "for i in links_pdf:\n",
    "  links_download.append(re.sub('view', 'download', i))\n",
    "\n",
    "print(links_download)"
   ]
  },
  {
   "cell_type": "code",
   "execution_count": 17,
   "metadata": {},
   "outputs": [
    {
     "data": {
      "text/plain": [
       "['https://sol.sbc.org.br/index.php/ctrle/article/download/8870/8771',\n",
       " 'https://sol.sbc.org.br/index.php/ctrle/article/download/8871/8772']"
      ]
     },
     "execution_count": 17,
     "metadata": {},
     "output_type": "execute_result"
    }
   ],
   "source": [
    "links_download = links_download[:2]\n",
    "links_download"
   ]
  },
  {
   "cell_type": "markdown",
   "metadata": {
    "colab_type": "text",
    "id": "TzItI7cJPiYo"
   },
   "source": [
    "Baixando os pdf's e armazenando como texto em arquivo txt:"
   ]
  },
  {
   "cell_type": "code",
   "execution_count": 18,
   "metadata": {
    "colab": {},
    "colab_type": "code",
    "id": "cEeOBjw-A1sf"
   },
   "outputs": [],
   "source": [
    "def download(url, nome):\n",
    "  resposta = requests.get(url)\n",
    "  if resposta.status_code==200:\n",
    "    with open(nome,\"wb\") as f:\n",
    "      f.write(resposta.content)"
   ]
  },
  {
   "cell_type": "code",
   "execution_count": 19,
   "metadata": {
    "colab": {
     "base_uri": "https://localhost:8080/",
     "height": 1000
    },
    "colab_type": "code",
    "id": "Bv66B4ACGiDB",
    "outputId": "6875627e-f472-44db-9d02-40161a5b30a2"
   },
   "outputs": [
    {
     "name": "stdout",
     "output_type": "stream",
     "text": [
      "22745\n",
      "22480\n"
     ]
    }
   ],
   "source": [
    "for i,link in enumerate(links_download):\n",
    "  pdf_name = 'pdf_{}.pdf'.format(i)\n",
    "  download(link, pdf_name)\n",
    "\n",
    "  pdf_text = extract_text(pdf_name)\n",
    "  with open(pdf_name+\".txt\",'w') as f:\n",
    "    f.write(pdf_text)\n",
    "  with open(pdf_name+\".txt\",'r') as f:\n",
    "    txt = f.read()\n",
    "    print(len(txt))"
   ]
  },
  {
   "cell_type": "code",
   "execution_count": null,
   "metadata": {},
   "outputs": [],
   "source": []
  }
 ],
 "metadata": {
  "colab": {
   "collapsed_sections": [],
   "name": "Dri-lab1-Alice.ipynb",
   "provenance": []
  },
  "kernelspec": {
   "display_name": "Python 3",
   "language": "python",
   "name": "python3"
  },
  "language_info": {
   "codemirror_mode": {
    "name": "ipython",
    "version": 3
   },
   "file_extension": ".py",
   "mimetype": "text/x-python",
   "name": "python",
   "nbconvert_exporter": "python",
   "pygments_lexer": "ipython3",
   "version": "3.7.6"
  }
 },
 "nbformat": 4,
 "nbformat_minor": 1
}
